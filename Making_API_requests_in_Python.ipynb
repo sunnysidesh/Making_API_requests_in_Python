{
  "nbformat": 4,
  "nbformat_minor": 0,
  "metadata": {
    "colab": {
      "name": "Making API requests in Python.ipynb",
      "provenance": []
    },
    "kernelspec": {
      "name": "python3",
      "display_name": "Python 3"
    }
  },
  "cells": [
    {
      "cell_type": "code",
      "metadata": {
        "id": "rTIEXnLPBrtk",
        "colab_type": "code",
        "colab": {}
      },
      "source": [
        "import requests\n",
        "\n",
        "url = 'http://api.harvardartmuseums.org/person'\n",
        "params = {'q' : 'culture:British', 'apikey': '98db9630-f2b9-11e9-ac47-9fdc136f81b9'}\n",
        "\n",
        "r = requests.get(url, params=params)"
      ],
      "execution_count": 0,
      "outputs": []
    }
  ]
}