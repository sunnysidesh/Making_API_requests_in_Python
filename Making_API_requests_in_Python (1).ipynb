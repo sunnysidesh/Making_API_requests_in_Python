{
  "nbformat": 4,
  "nbformat_minor": 0,
  "metadata": {
    "colab": {
      "name": "Making API requests in Python.ipynb",
      "provenance": [],
      "collapsed_sections": []
    },
    "kernelspec": {
      "name": "python3",
      "display_name": "Python 3"
    }
  },
  "cells": [
    {
      "cell_type": "code",
      "metadata": {
        "id": "rTIEXnLPBrtk",
        "colab_type": "code",
        "colab": {}
      },
      "source": [
        "import requests\n",
        "\n",
        "url = 'http://api.harvardartmuseums.org/person'\n",
        "params = {'q' : 'culture:British', 'apikey': '98db9630-f2b9-11e9-ac47-9fdc136f81b9'}\n",
        "\n",
        "r = requests.get(url, params=params)"
      ],
      "execution_count": 0,
      "outputs": []
    },
    {
      "cell_type": "code",
      "metadata": {
        "id": "5VDhP0hnykcj",
        "colab_type": "code",
        "outputId": "e5995410-3a61-4748-99bc-b4355c311f5a",
        "colab": {
          "base_uri": "https://localhost:8080/",
          "height": 1000
        }
      },
      "source": [
        "dir(r)"
      ],
      "execution_count": 0,
      "outputs": [
        {
          "output_type": "execute_result",
          "data": {
            "text/plain": [
              "['__attrs__',\n",
              " '__bool__',\n",
              " '__class__',\n",
              " '__delattr__',\n",
              " '__dict__',\n",
              " '__dir__',\n",
              " '__doc__',\n",
              " '__enter__',\n",
              " '__eq__',\n",
              " '__exit__',\n",
              " '__format__',\n",
              " '__ge__',\n",
              " '__getattribute__',\n",
              " '__getstate__',\n",
              " '__gt__',\n",
              " '__hash__',\n",
              " '__init__',\n",
              " '__init_subclass__',\n",
              " '__iter__',\n",
              " '__le__',\n",
              " '__lt__',\n",
              " '__module__',\n",
              " '__ne__',\n",
              " '__new__',\n",
              " '__nonzero__',\n",
              " '__reduce__',\n",
              " '__reduce_ex__',\n",
              " '__repr__',\n",
              " '__setattr__',\n",
              " '__setstate__',\n",
              " '__sizeof__',\n",
              " '__str__',\n",
              " '__subclasshook__',\n",
              " '__weakref__',\n",
              " '_content',\n",
              " '_content_consumed',\n",
              " '_next',\n",
              " 'apparent_encoding',\n",
              " 'close',\n",
              " 'connection',\n",
              " 'content',\n",
              " 'cookies',\n",
              " 'elapsed',\n",
              " 'encoding',\n",
              " 'headers',\n",
              " 'history',\n",
              " 'is_permanent_redirect',\n",
              " 'is_redirect',\n",
              " 'iter_content',\n",
              " 'iter_lines',\n",
              " 'json',\n",
              " 'links',\n",
              " 'next',\n",
              " 'ok',\n",
              " 'raise_for_status',\n",
              " 'raw',\n",
              " 'reason',\n",
              " 'request',\n",
              " 'status_code',\n",
              " 'text',\n",
              " 'url']"
            ]
          },
          "metadata": {
            "tags": []
          },
          "execution_count": 9
        }
      ]
    },
    {
      "cell_type": "code",
      "metadata": {
        "id": "9Rqzpdl8ymoD",
        "colab_type": "code",
        "outputId": "160f85de-d86b-4d0b-eaaa-2895a63948e2",
        "colab": {
          "base_uri": "https://localhost:8080/",
          "height": 34
        }
      },
      "source": [
        "r.status_code"
      ],
      "execution_count": 0,
      "outputs": [
        {
          "output_type": "execute_result",
          "data": {
            "text/plain": [
              "200"
            ]
          },
          "metadata": {
            "tags": []
          },
          "execution_count": 10
        }
      ]
    },
    {
      "cell_type": "code",
      "metadata": {
        "id": "vM-CDPC9ypsa",
        "colab_type": "code",
        "outputId": "231d60f4-55ec-4e07-8cac-8f397e50d533",
        "colab": {
          "base_uri": "https://localhost:8080/",
          "height": 54
        }
      },
      "source": [
        "r.content"
      ],
      "execution_count": 0,
      "outputs": [
        {
          "output_type": "execute_result",
          "data": {
            "text/plain": [
              "b'{\"info\":{\"totalrecordsperquery\":10,\"totalrecords\":1862,\"pages\":187,\"page\":1,\"next\":\"https://api.harvardartmuseums.org/person?q=culture%3ABritish&apikey=98db9630-f2b9-11e9-ac47-9fdc136f81b9&page=2\"},\"records\":[{\"dateend\":0,\"alphasort\":\"Downes, Rackstraw\",\"displaydate\":\"born 1939\",\"url\":\"https://www.harvardartmuseums.org/collections/person/14458\",\"deathplace\":null,\"id\":14458,\"objectcount\":1,\"lastupdate\":\"2019-11-29T04:46:20-0500\",\"datebegin\":1939,\"birthplace\":\"Kent, England\",\"personid\":14458,\"gender\":\"unknown\",\"culture\":\"British\",\"displayname\":\"Rackstraw Downes\"},{\"dateend\":1908,\"alphasort\":\"Detmold, Charles Maurice\",\"displaydate\":\"1883 - 1908\",\"url\":\"https://www.harvardartmuseums.org/collections/person/18011\",\"deathplace\":null,\"id\":18011,\"objectcount\":1,\"lastupdate\":\"2019-11-29T04:46:34-0500\",\"datebegin\":1883,\"birthplace\":null,\"personid\":18011,\"gender\":\"unknown\",\"culture\":\"British\",\"displayname\":\"Charles Maurice Detmold\"},{\"dateend\":9999,\"alphasort\":\"Hutchinson, Peter\",\"displaydate\":\"born 1930\",\"url\":\"https://www.harvardartmuseums.org/collections/person/18173\",\"deathplace\":null,\"id\":18173,\"objectcount\":1,\"lastupdate\":\"2019-11-29T04:46:56-0500\",\"datebegin\":1930,\"birthplace\":\"London, England\",\"personid\":18173,\"gender\":\"unknown\",\"culture\":\"British\",\"displayname\":\"Peter Hutchinson\"},{\"dateend\":1814,\"alphasort\":\"Burch, Edward Jr.\",\"displaydate\":\"1730 - 1814\",\"url\":\"https://www.harvardartmuseums.org/collections/person/18942\",\"deathplace\":null,\"id\":18942,\"objectcount\":1,\"lastupdate\":\"2019-11-29T04:46:56-0500\",\"datebegin\":1730,\"birthplace\":null,\"personid\":18942,\"gender\":\"unknown\",\"culture\":\"British\",\"displayname\":\"Edward Burch Jr.\"},{\"dateend\":1844,\"alphasort\":\"Bennett, William James\",\"displaydate\":\"1787 - 1844\",\"url\":\"https://www.harvardartmuseums.org/collections/person/18925\",\"deathplace\":null,\"id\":18925,\"objectcount\":1,\"lastupdate\":\"2019-11-29T04:46:58-0500\",\"datebegin\":1787,\"birthplace\":null,\"personid\":18925,\"gender\":\"unknown\",\"culture\":\"British\",\"displayname\":\"William James Bennett\"},{\"dateend\":0,\"alphasort\":\"Gamble, James\",\"displaydate\":null,\"url\":\"https://www.harvardartmuseums.org/collections/person/18249\",\"deathplace\":null,\"id\":18249,\"objectcount\":1,\"lastupdate\":\"2019-11-29T04:47:17-0500\",\"datebegin\":0,\"birthplace\":null,\"personid\":18249,\"gender\":\"unknown\",\"culture\":\"British\",\"displayname\":\"James Gamble\"},{\"dateend\":1743,\"alphasort\":\"Farren, Thomas\",\"displaydate\":\"active 1707 - c. 1743\",\"url\":\"https://www.harvardartmuseums.org/collections/person/19838\",\"deathplace\":null,\"id\":19838,\"objectcount\":4,\"lastupdate\":\"2019-11-29T04:47:21-0500\",\"datebegin\":1707,\"birthplace\":\"Tewksbury\",\"personid\":19838,\"gender\":\"unknown\",\"culture\":\"British\",\"displayname\":\"Thomas Farren\"},{\"dateend\":0,\"alphasort\":\"Greenwood, C.\",\"displaydate\":null,\"url\":\"https://www.harvardartmuseums.org/collections/person/18258\",\"deathplace\":null,\"id\":18258,\"objectcount\":2,\"lastupdate\":\"2019-11-29T04:47:24-0500\",\"datebegin\":0,\"birthplace\":null,\"personid\":18258,\"gender\":\"unknown\",\"culture\":\"British?\",\"displayname\":\"C. Greenwood\"},{\"dateend\":1740,\"alphasort\":\"Anonymous England 1725\",\"displaydate\":\"active 1700 - 1740\",\"url\":\"https://www.harvardartmuseums.org/collections/person/21742\",\"deathplace\":null,\"id\":21742,\"objectcount\":1,\"lastupdate\":\"2019-11-29T04:47:40-0500\",\"datebegin\":1700,\"birthplace\":null,\"personid\":21742,\"gender\":\"unknown\",\"culture\":\"British\",\"displayname\":\"Anonymous England 1725\"},{\"dateend\":1899,\"alphasort\":\"Read & Co\",\"displaydate\":\"active 19th c.\",\"url\":\"https://www.harvardartmuseums.org/collections/person/18255\",\"deathplace\":null,\"id\":18255,\"objectcount\":1,\"lastupdate\":\"2019-11-29T04:47:41-0500\",\"datebegin\":1800,\"birthplace\":null,\"personid\":18255,\"gender\":\"unknown\",\"culture\":\"British\",\"displayname\":\"Read & Co\"}]}'"
            ]
          },
          "metadata": {
            "tags": []
          },
          "execution_count": 11
        }
      ]
    },
    {
      "cell_type": "code",
      "metadata": {
        "id": "Er5xcEFXyqn4",
        "colab_type": "code",
        "colab": {}
      },
      "source": [
        "what_you_need = r.json()"
      ],
      "execution_count": 0,
      "outputs": []
    },
    {
      "cell_type": "code",
      "metadata": {
        "id": "W9jIBik1ysD4",
        "colab_type": "code",
        "outputId": "6d4e8bb3-e400-4bab-a5d7-1a02bd814ac0",
        "colab": {
          "base_uri": "https://localhost:8080/",
          "height": 102
        }
      },
      "source": [
        "what_you_need['info']"
      ],
      "execution_count": 0,
      "outputs": [
        {
          "output_type": "execute_result",
          "data": {
            "text/plain": [
              "{'next': 'https://api.harvardartmuseums.org/person?q=culture%3ABritish&apikey=98db9630-f2b9-11e9-ac47-9fdc136f81b9&page=2',\n",
              " 'page': 1,\n",
              " 'pages': 187,\n",
              " 'totalrecords': 1862,\n",
              " 'totalrecordsperquery': 10}"
            ]
          },
          "metadata": {
            "tags": []
          },
          "execution_count": 17
        }
      ]
    },
    {
      "cell_type": "code",
      "metadata": {
        "id": "_nHKHt8l0Bxf",
        "colab_type": "code",
        "colab": {}
      },
      "source": [
        "results = []\n",
        "\n",
        "for page_number in range(2, 188):\n",
        "  params['page'] = page_number\n",
        "  r = requests.get(url, params=params)\n",
        "  results.append(r.json())"
      ],
      "execution_count": 0,
      "outputs": []
    }
  ]
}